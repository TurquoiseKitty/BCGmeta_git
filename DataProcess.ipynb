{
 "cells": [
  {
   "cell_type": "code",
   "execution_count": 97,
   "id": "987872e4",
   "metadata": {},
   "outputs": [
    {
     "name": "stdout",
     "output_type": "stream",
     "text": [
      "dict_keys([1, 2, 3, 4, 5, 9])\n",
      "213\n"
     ]
    },
    {
     "name": "stderr",
     "output_type": "stream",
     "text": [
      "C:\\Users\\CAI\\AppData\\Local\\Temp/ipykernel_20444/2991559369.py:7: SettingWithCopyWarning: \n",
      "A value is trying to be set on a copy of a slice from a DataFrame.\n",
      "Try using .loc[row_indexer,col_indexer] = value instead\n",
      "\n",
      "See the caveats in the documentation: https://pandas.pydata.org/pandas-docs/stable/user_guide/indexing.html#returning-a-view-versus-a-copy\n",
      "  data[\"count\"] = data.groupby(\"Product_ID\")[\"Purchased_Product\"].transform(\"sum\")\n"
     ]
    }
   ],
   "source": [
    "import pandas as pd\n",
    "\n",
    "data_frame = pd.read_csv('msom/Hotel5.csv')\n",
    "\n",
    "data = data_frame[[\"Booking_ID\",\"Product_ID\",\"Purchased_Product\"]]\n",
    "\n",
    "data[\"count\"] = data.groupby(\"Product_ID\")[\"Purchased_Product\"].transform(\"sum\")\n",
    "\n",
    "data = data.loc[data[\"count\"] > 10][[\"Booking_ID\",\"Product_ID\",\"Purchased_Product\"]]\n",
    "\n",
    "data[\"feasibility\"] = data.groupby(\"Booking_ID\")[\"Purchased_Product\"].transform(\"max\")\n",
    "\n",
    "data = data.loc[data[\"feasibility\"] == 1][[\"Booking_ID\",\"Product_ID\",\"Purchased_Product\"]]\n",
    "\n",
    "print(data.groupby(\"Product_ID\").groups.keys())\n",
    "print(len(data.groupby(\"Booking_ID\").groups.keys()))"
   ]
  },
  {
   "cell_type": "code",
   "execution_count": 98,
   "id": "9d43876c",
   "metadata": {},
   "outputs": [],
   "source": [
    "import numpy as np\n",
    "import matplotlib.pyplot as plt\n",
    "\n",
    "data_pureChoice = data.loc[data[\"Purchased_Product\"] == 1]\n",
    "\n",
    "keys = list(data.groupby(\"Product_ID\").groups.keys())\n",
    "\n",
    "keys = np.insert(keys, 0, 0)\n",
    "\n",
    "sample_amount = len(data_pureChoice) * 5\n",
    "\n",
    "ASSORT = np.zeros((sample_amount, len(keys)))\n",
    "\n",
    "ASSORT[:, 0] = 1\n",
    "\n",
    "SAMP = np.zeros((sample_amount, len(keys)))\n",
    "\n",
    "\n",
    "\n",
    "for i in range(len(data_pureChoice)):\n",
    "    SAMP[5*i, 0] = 1\n",
    "    SAMP[5*i + 1, 0] = 1\n",
    "    SAMP[5*i + 2, 0] = 1\n",
    "    SAMP[5*i + 3, 0] = 1\n",
    "\n",
    "    book_id = list(data_pureChoice[\"Booking_ID\"])[i]\n",
    "    \n",
    "    real_choice = list(data_pureChoice[\"Product_ID\"])[i]\n",
    "    \n",
    "    SAMP[5*i + 4][keys == real_choice] = 1\n",
    "    \n",
    "    assortment = data.loc[data[\"Booking_ID\"] == book_id][\"Product_ID\"]\n",
    "    \n",
    "    ASSORT[5*i : 5*(i+1), np.isin(keys, assortment)] = 1\n",
    "    \n",
    "np.save(\"msom/H5/ASSORT.npy\", ASSORT)\n",
    "np.save(\"msom/H5/SAMP.npy\", SAMP)\n",
    "\n"
   ]
  },
  {
   "cell_type": "code",
   "execution_count": null,
   "id": "2fda7460",
   "metadata": {},
   "outputs": [],
   "source": []
  }
 ],
 "metadata": {
  "kernelspec": {
   "display_name": "Python 3 (ipykernel)",
   "language": "python",
   "name": "python3"
  },
  "language_info": {
   "codemirror_mode": {
    "name": "ipython",
    "version": 3
   },
   "file_extension": ".py",
   "mimetype": "text/x-python",
   "name": "python",
   "nbconvert_exporter": "python",
   "pygments_lexer": "ipython3",
   "version": "3.9.7"
  }
 },
 "nbformat": 4,
 "nbformat_minor": 5
}
