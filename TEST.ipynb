{
 "cells": [
  {
   "cell_type": "code",
   "execution_count": 1,
   "id": "ed7b2761",
   "metadata": {},
   "outputs": [
    {
     "name": "stdout",
     "output_type": "stream",
     "text": [
      "test error:  tensor(0.8539)\n"
     ]
    }
   ],
   "source": [
    "from test import sklearn_check\n",
    "\n",
    "sklearn_check(\"configs/H2.yaml\", \"rho_lamb_result/rhoH2.npy\", \"rho_lamb_result/lambH2.npy\")"
   ]
  },
  {
   "cell_type": "code",
   "execution_count": 6,
   "id": "fc294510",
   "metadata": {},
   "outputs": [
    {
     "data": {
      "text/plain": [
       "array([[1.        , 0.        , 0.        , 0.        , 0.        ,\n",
       "        0.        , 0.        , 0.        ],\n",
       "       [0.        , 1.        , 0.        , 0.        , 0.        ,\n",
       "        0.        , 0.        , 0.        ],\n",
       "       [0.05180397, 0.3034799 , 0.05631786, 0.1691581 , 0.11238561,\n",
       "        0.16960425, 0.0030857 , 0.13416461],\n",
       "       [0.06607944, 0.18133612, 0.09553107, 0.05226917, 0.24563225,\n",
       "        0.14331465, 0.17622055, 0.03961674],\n",
       "       [0.01925578, 0.31064056, 0.11413543, 0.03980173, 0.11235006,\n",
       "        0.22904598, 0.06033186, 0.11443861],\n",
       "       [0.08230151, 0.15296528, 0.23370154, 0.19931822, 0.1817067 ,\n",
       "        0.0362495 , 0.04187519, 0.07188205],\n",
       "       [0.04757334, 0.14879343, 0.02690305, 0.08808012, 0.05063996,\n",
       "        0.21499572, 0.28875206, 0.13426233],\n",
       "       [0.04186721, 0.02482493, 0.30604072, 0.31529171, 0.04656883,\n",
       "        0.0996794 , 0.13319686, 0.03253034]])"
      ]
     },
     "execution_count": 6,
     "metadata": {},
     "output_type": "execute_result"
    }
   ],
   "source": [
    "import numpy as np\n",
    "\n",
    "MM = np.load( \"rho_lamb_result/rhoH4.npy\")\n",
    "\n",
    "MM"
   ]
  },
  {
   "cell_type": "code",
   "execution_count": 13,
   "id": "903dd31a",
   "metadata": {},
   "outputs": [
    {
     "name": "stdout",
     "output_type": "stream",
     "text": [
      "Test KL loss:  {'KL_loss': tensor(0.6540, device='cuda:0', grad_fn=<DivBackward1>)}\n"
     ]
    }
   ],
   "source": [
    "from test import KL_loss_check\n",
    "from dataset import GrepDataset\n",
    "import yaml\n",
    "import torch\n",
    "from train import KL_loss\n",
    "    \n",
    "    \n",
    "config_path = \"configs/H5.yaml\"\n",
    "model_path = \"logs/H5_tune/H5_tune_last.pth\"\n",
    "    \n",
    "\n",
    "with open(config_path, 'r') as file:\n",
    "    params = yaml.safe_load(file)\n",
    "\n",
    "\n",
    "_, _, testing_dataset=GrepDataset(**params['data_params'])\n",
    "\n",
    "        \n",
    "model = torch.load(model_path)\n",
    "\n",
    "model.eval()\n",
    "\n",
    "IN, SAMP = testing_dataset[:]\n",
    "\n",
    "model_OUT = model(IN)\n",
    "\n",
    "print(\"Test KL loss: \",KL_loss(model_OUT, SAMP))\n"
   ]
  },
  {
   "cell_type": "code",
   "execution_count": 18,
   "id": "9cc654f9",
   "metadata": {},
   "outputs": [
    {
     "name": "stdout",
     "output_type": "stream",
     "text": [
      "Test KL loss:  {'KL_loss': tensor(0.6477, device='cuda:0', grad_fn=<DivBackward1>)}\n",
      "Silly prediction KL loss:  {'KL_loss': tensor(2.4071, device='cuda:0')}\n"
     ]
    }
   ],
   "source": [
    "from test import KL_loss_check\n",
    "\n",
    "KL_loss_check(training_yaml_path = \"configs/H5_warm.yaml\", model_name=\"H5_warm\")"
   ]
  },
  {
   "cell_type": "code",
   "execution_count": 19,
   "id": "ad04721c",
   "metadata": {},
   "outputs": [
    {
     "name": "stdout",
     "output_type": "stream",
     "text": [
      "Test KL loss:  {'KL_loss': tensor(0.6470, device='cuda:0', grad_fn=<DivBackward1>)}\n",
      "Silly prediction KL loss:  {'KL_loss': tensor(2.1218, device='cuda:0')}\n"
     ]
    }
   ],
   "source": [
    "from test import KL_loss_check\n",
    "\n",
    "KL_loss_check(training_yaml_path = \"configs/H4_warm.yaml\", model_name=\"H4_warm\", model_path = \"logs/H4_warm/H4_warm_epoch39.pth\")"
   ]
  },
  {
   "cell_type": "code",
   "execution_count": 26,
   "id": "ac4e813f",
   "metadata": {},
   "outputs": [
    {
     "name": "stdout",
     "output_type": "stream",
     "text": [
      "Test KL loss:  {'KL_loss': tensor(0.8656, device='cuda:0', grad_fn=<DivBackward1>)}\n",
      "Silly prediction KL loss:  {'KL_loss': tensor(1.5909, device='cuda:0')}\n"
     ]
    }
   ],
   "source": [
    "from test import KL_loss_check\n",
    "\n",
    "KL_loss_check(training_yaml_path = \"configs/H2_warm.yaml\", model_name=\"H2_warm\", model_path = \"logs/H2_warm/H2_warm_epoch159.pth\")"
   ]
  },
  {
   "cell_type": "code",
   "execution_count": 1,
   "id": "09f7d771",
   "metadata": {},
   "outputs": [
    {
     "name": "stdout",
     "output_type": "stream",
     "text": [
      "Test KL loss:  {'KL_loss': tensor(0.6477, device='cuda:0', grad_fn=<DivBackward1>)}\n",
      "Silly prediction KL loss:  {'KL_loss': tensor(2.1412, device='cuda:0')}\n"
     ]
    }
   ],
   "source": [
    "from test import KL_loss_check\n",
    "\n",
    "KL_loss_check(training_yaml_path = \"configs/Res5_warm.yaml\", model_name=\"Res5_warm\")"
   ]
  },
  {
   "cell_type": "code",
   "execution_count": 7,
   "id": "02df1146",
   "metadata": {},
   "outputs": [
    {
     "name": "stdout",
     "output_type": "stream",
     "text": [
      "Test KL loss:  {'KL_loss': tensor(0.6484, device='cuda:0', grad_fn=<DivBackward1>)}\n",
      "Silly prediction KL loss:  {'KL_loss': tensor(2.2542, device='cuda:0')}\n"
     ]
    }
   ],
   "source": [
    "from test import KL_loss_check\n",
    "\n",
    "KL_loss_check(training_yaml_path = \"configs/Res4_warm.yaml\", model_name=\"Res4_warm\", model_path = \"logs/Res4_warm/Res4_warm_epoch39.pth\")"
   ]
  },
  {
   "cell_type": "code",
   "execution_count": 5,
   "id": "3d65a5c6",
   "metadata": {},
   "outputs": [
    {
     "name": "stdout",
     "output_type": "stream",
     "text": [
      "Test KL loss:  {'KL_loss': tensor(0.8764, device='cuda:0', grad_fn=<DivBackward1>)}\n",
      "Silly prediction KL loss:  {'KL_loss': tensor(1.6629, device='cuda:0')}\n"
     ]
    }
   ],
   "source": [
    "from test import KL_loss_check\n",
    "\n",
    "KL_loss_check(training_yaml_path = \"configs/H2_warm.yaml\", model_name=\"Res2_warm\", model_path = \"logs/Res2_warm/Res2_warm_last.pth\")"
   ]
  },
  {
   "cell_type": "code",
   "execution_count": null,
   "id": "6440793a",
   "metadata": {},
   "outputs": [],
   "source": []
  }
 ],
 "metadata": {
  "kernelspec": {
   "display_name": "Python 3 (ipykernel)",
   "language": "python",
   "name": "python3"
  },
  "language_info": {
   "codemirror_mode": {
    "name": "ipython",
    "version": 3
   },
   "file_extension": ".py",
   "mimetype": "text/x-python",
   "name": "python",
   "nbconvert_exporter": "python",
   "pygments_lexer": "ipython3",
   "version": "3.9.7"
  },
  "vscode": {
   "interpreter": {
    "hash": "6218001e1394f6dfc9651e69e6113b19d5ca4029843c0307c1418fcabe8710e8"
   }
  }
 },
 "nbformat": 4,
 "nbformat_minor": 5
}
